{
 "cells": [
  {
   "cell_type": "code",
   "execution_count": 1,
   "metadata": {
    "scrolled": true
   },
   "outputs": [],
   "source": [
    "%%capture\n",
    "import sys\n",
    "!{sys.executable} -m pip install py2neo;\n",
    "import py2neo\n",
    "import pandas as pd"
   ]
  },
  {
   "cell_type": "code",
   "execution_count": 2,
   "metadata": {},
   "outputs": [],
   "source": [
    "graph = py2neo.Graph('http://neo4j:7474')"
   ]
  },
  {
   "cell_type": "markdown",
   "metadata": {},
   "source": [
    "# New York Times Comments\n",
    "The data contains information about the comments made on the articles published in New York Times in Jan-May 2017 and Jan-April 2018.\n",
    "\n",
    "See: https://www.kaggle.com/aashita/nyt-comments/home"
   ]
  },
  {
   "cell_type": "markdown",
   "metadata": {},
   "source": [
    "## Data Summary\n",
    "### Nodes"
   ]
  },
  {
   "cell_type": "code",
   "execution_count": 3,
   "metadata": {},
   "outputs": [
    {
     "data": {
      "text/html": [
       "<div>\n",
       "<style scoped>\n",
       "    .dataframe tbody tr th:only-of-type {\n",
       "        vertical-align: middle;\n",
       "    }\n",
       "\n",
       "    .dataframe tbody tr th {\n",
       "        vertical-align: top;\n",
       "    }\n",
       "\n",
       "    .dataframe thead th {\n",
       "        text-align: right;\n",
       "    }\n",
       "</style>\n",
       "<table border=\"1\" class=\"dataframe\">\n",
       "  <thead>\n",
       "    <tr style=\"text-align: right;\">\n",
       "      <th></th>\n",
       "      <th>Label</th>\n",
       "      <th>N</th>\n",
       "      <th>Avg. Degree</th>\n",
       "      <th>Std. Dev. Degree</th>\n",
       "      <th>Median Degree</th>\n",
       "      <th>Min. Degree</th>\n",
       "      <th>Max. Degree</th>\n",
       "    </tr>\n",
       "  </thead>\n",
       "  <tbody>\n",
       "    <tr>\n",
       "      <th>0</th>\n",
       "      <td>[ARTICLE]</td>\n",
       "      <td>9298</td>\n",
       "      <td>185.409228</td>\n",
       "      <td>315.736664</td>\n",
       "      <td>57.0</td>\n",
       "      <td>1.0</td>\n",
       "      <td>4996.0</td>\n",
       "    </tr>\n",
       "    <tr>\n",
       "      <th>1</th>\n",
       "      <td>[USER]</td>\n",
       "      <td>301682</td>\n",
       "      <td>5.714411</td>\n",
       "      <td>21.186375</td>\n",
       "      <td>1.0</td>\n",
       "      <td>0.0</td>\n",
       "      <td>1571.0</td>\n",
       "    </tr>\n",
       "    <tr>\n",
       "      <th>2</th>\n",
       "      <td>[COMMENTED]</td>\n",
       "      <td>1723935</td>\n",
       "      <td>NaN</td>\n",
       "      <td>NaN</td>\n",
       "      <td>NaN</td>\n",
       "      <td>NaN</td>\n",
       "      <td>NaN</td>\n",
       "    </tr>\n",
       "  </tbody>\n",
       "</table>\n",
       "</div>"
      ],
      "text/plain": [
       "         Label        N  Avg. Degree  Std. Dev. Degree  Median Degree  \\\n",
       "0    [ARTICLE]     9298   185.409228        315.736664           57.0   \n",
       "1       [USER]   301682     5.714411         21.186375            1.0   \n",
       "2  [COMMENTED]  1723935          NaN               NaN            NaN   \n",
       "\n",
       "   Min. Degree  Max. Degree  \n",
       "0          1.0       4996.0  \n",
       "1          0.0       1571.0  \n",
       "2          NaN          NaN  "
      ]
     },
     "execution_count": 3,
     "metadata": {},
     "output_type": "execute_result"
    }
   ],
   "source": [
    "def yield_record(cursor):\n",
    "    halt = False\n",
    "    while not halt:\n",
    "        try:\n",
    "            yield cur.next().data()\n",
    "        except:\n",
    "            halt = True\n",
    "            \n",
    "Ncomments = graph.run(\"\"\"MATCH ()-[r:COMMENTED]->() RETURN count(*)\"\"\").next().data()['count(*)']\n",
    "            \n",
    "cur = graph.run(\"\"\"MATCH (n)\n",
    "RETURN\n",
    "DISTINCT labels(n),\n",
    "count(*) AS nNodes,\n",
    "avg(size( (n)-[]-() ) ) as avgDeg,\n",
    "stdev(size( (n)-[]-() ) ) as stdDeg,\n",
    "percentileDisc(size( (n)-[]-() ), 0.5) as medDeg, \n",
    "min(size( (n)-[]-() ) ) as minDeg,\n",
    "max(size( (n)-[]-() ) ) as maxDeg\"\"\")\n",
    "\n",
    "pd.DataFrame(\n",
    "    [list(record.values()) for record in yield_record(cur)] + [[['COMMENTED'], Ncomments]], \n",
    "    columns=['Label', 'N', 'Avg. Degree', 'Std. Dev. Degree', 'Median Degree', 'Min. Degree', 'Max. Degree']\n",
    ")"
   ]
  },
  {
   "cell_type": "markdown",
   "metadata": {},
   "source": [
    "### What articles have the highest degree (i.e., most comments)?"
   ]
  },
  {
   "cell_type": "code",
   "execution_count": 4,
   "metadata": {},
   "outputs": [
    {
     "data": {
      "text/html": [
       "<style  type=\"text/css\" >\n",
       "</style>  \n",
       "<table id=\"T_8bcb7c18_25d6_11e9_851e_0242ac120003\" > \n",
       "<thead>    <tr> \n",
       "        <th class=\"blank level0\" ></th> \n",
       "        <th class=\"col_heading level0 col0\" >Comments</th> \n",
       "        <th class=\"col_heading level0 col1\" >byline</th> \n",
       "        <th class=\"col_heading level0 col2\" >connComponent</th> \n",
       "        <th class=\"col_heading level0 col3\" >headline</th> \n",
       "        <th class=\"col_heading level0 col4\" >labelProp</th> \n",
       "        <th class=\"col_heading level0 col5\" >newDesk</th> \n",
       "        <th class=\"col_heading level0 col6\" >pagerank</th> \n",
       "        <th class=\"col_heading level0 col7\" >pubDate</th> \n",
       "        <th class=\"col_heading level0 col8\" >webURL</th> \n",
       "    </tr>    <tr> \n",
       "        <th class=\"index_name level0\" >articleID</th> \n",
       "        <th class=\"blank\" ></th> \n",
       "        <th class=\"blank\" ></th> \n",
       "        <th class=\"blank\" ></th> \n",
       "        <th class=\"blank\" ></th> \n",
       "        <th class=\"blank\" ></th> \n",
       "        <th class=\"blank\" ></th> \n",
       "        <th class=\"blank\" ></th> \n",
       "        <th class=\"blank\" ></th> \n",
       "        <th class=\"blank\" ></th> \n",
       "    </tr></thead> \n",
       "<tbody>    <tr> \n",
       "        <th id=\"T_8bcb7c18_25d6_11e9_851e_0242ac120003level0_row0\" class=\"row_heading level0 row0\" >58b0894195d0e0247463875e</th> \n",
       "        <td id=\"T_8bcb7c18_25d6_11e9_851e_0242ac120003row0_col0\" class=\"data row0 col0\" >4996</td> \n",
       "        <td id=\"T_8bcb7c18_25d6_11e9_851e_0242ac120003row0_col1\" class=\"data row0 col1\" >By JULIE HIRSCHFELD DAVIS and MICHAEL M. GRYNBAUM</td> \n",
       "        <td id=\"T_8bcb7c18_25d6_11e9_851e_0242ac120003row0_col2\" class=\"data row0 col2\" >155742</td> \n",
       "        <td id=\"T_8bcb7c18_25d6_11e9_851e_0242ac120003row0_col3\" class=\"data row0 col3\" >Trump Intensifies Criticism of F.B.I. and Journalists</td> \n",
       "        <td id=\"T_8bcb7c18_25d6_11e9_851e_0242ac120003row0_col4\" class=\"data row0 col4\" >1749</td> \n",
       "        <td id=\"T_8bcb7c18_25d6_11e9_851e_0242ac120003row0_col5\" class=\"data row0 col5\" >National</td> \n",
       "        <td id=\"T_8bcb7c18_25d6_11e9_851e_0242ac120003row0_col6\" class=\"data row0 col6\" >195.696</td> \n",
       "        <td id=\"T_8bcb7c18_25d6_11e9_851e_0242ac120003row0_col7\" class=\"data row0 col7\" >2017-02-24 19:27:53</td> \n",
       "        <td id=\"T_8bcb7c18_25d6_11e9_851e_0242ac120003row0_col8\" class=\"data row0 col8\" ><a target=\"_blank\" href=\"https://www.nytimes.com/2017/02/24/us/politics/white-house-sean-spicer-briefing.html\"\">Link</a></td> \n",
       "    </tr>    <tr> \n",
       "        <th id=\"T_8bcb7c18_25d6_11e9_851e_0242ac120003level0_row1\" class=\"row_heading level0 row1\" >5912391b7c459f24986de9ab</th> \n",
       "        <td id=\"T_8bcb7c18_25d6_11e9_851e_0242ac120003row1_col0\" class=\"data row1 col0\" >4184</td> \n",
       "        <td id=\"T_8bcb7c18_25d6_11e9_851e_0242ac120003row1_col1\" class=\"data row1 col1\" >By MICHAEL D. SHEAR and MATT APUZZO</td> \n",
       "        <td id=\"T_8bcb7c18_25d6_11e9_851e_0242ac120003row1_col2\" class=\"data row1 col2\" >173896</td> \n",
       "        <td id=\"T_8bcb7c18_25d6_11e9_851e_0242ac120003row1_col3\" class=\"data row1 col3\" >Trump Fires Comey Amid Russia Inquiry</td> \n",
       "        <td id=\"T_8bcb7c18_25d6_11e9_851e_0242ac120003row1_col4\" class=\"data row1 col4\" >15988</td> \n",
       "        <td id=\"T_8bcb7c18_25d6_11e9_851e_0242ac120003row1_col5\" class=\"data row1 col5\" >National</td> \n",
       "        <td id=\"T_8bcb7c18_25d6_11e9_851e_0242ac120003row1_col6\" class=\"data row1 col6\" >157.107</td> \n",
       "        <td id=\"T_8bcb7c18_25d6_11e9_851e_0242ac120003row1_col7\" class=\"data row1 col7\" >2017-05-09 21:48:03</td> \n",
       "        <td id=\"T_8bcb7c18_25d6_11e9_851e_0242ac120003row1_col8\" class=\"data row1 col8\" ><a target=\"_blank\" href=\"https://www.nytimes.com/2017/05/09/us/politics/james-comey-fired-fbi.html\"\">Link</a></td> \n",
       "    </tr>    <tr> \n",
       "        <th id=\"T_8bcb7c18_25d6_11e9_851e_0242ac120003level0_row2\" class=\"row_heading level0 row2\" >58ebb1437c459f24986d96ed</th> \n",
       "        <td id=\"T_8bcb7c18_25d6_11e9_851e_0242ac120003row2_col0\" class=\"data row2 col0\" >4014</td> \n",
       "        <td id=\"T_8bcb7c18_25d6_11e9_851e_0242ac120003row2_col1\" class=\"data row2 col1\" >By DANIEL VICTOR and MATT STEVENS</td> \n",
       "        <td id=\"T_8bcb7c18_25d6_11e9_851e_0242ac120003row2_col2\" class=\"data row2 col2\" >173896</td> \n",
       "        <td id=\"T_8bcb7c18_25d6_11e9_851e_0242ac120003row2_col3\" class=\"data row2 col3\" >Man Is Dragged From a Full Jet, Stirring a Furor</td> \n",
       "        <td id=\"T_8bcb7c18_25d6_11e9_851e_0242ac120003row2_col4\" class=\"data row2 col4\" >2781</td> \n",
       "        <td id=\"T_8bcb7c18_25d6_11e9_851e_0242ac120003row2_col5\" class=\"data row2 col5\" >Business</td> \n",
       "        <td id=\"T_8bcb7c18_25d6_11e9_851e_0242ac120003row2_col6\" class=\"data row2 col6\" >239.803</td> \n",
       "        <td id=\"T_8bcb7c18_25d6_11e9_851e_0242ac120003row2_col7\" class=\"data row2 col7\" >2017-04-10 16:22:22</td> \n",
       "        <td id=\"T_8bcb7c18_25d6_11e9_851e_0242ac120003row2_col8\" class=\"data row2 col8\" ><a target=\"_blank\" href=\"https://www.nytimes.com/2017/04/10/business/united-flight-passenger-dragged.html\"\">Link</a></td> \n",
       "    </tr>    <tr> \n",
       "        <th id=\"T_8bcb7c18_25d6_11e9_851e_0242ac120003level0_row3\" class=\"row_heading level0 row3\" >591a524d7c459f24986dfc28</th> \n",
       "        <td id=\"T_8bcb7c18_25d6_11e9_851e_0242ac120003row3_col0\" class=\"data row3 col0\" >3791</td> \n",
       "        <td id=\"T_8bcb7c18_25d6_11e9_851e_0242ac120003row3_col1\" class=\"data row3 col1\" >By DAVID BROOKS</td> \n",
       "        <td id=\"T_8bcb7c18_25d6_11e9_851e_0242ac120003row3_col2\" class=\"data row3 col2\" >173896</td> \n",
       "        <td id=\"T_8bcb7c18_25d6_11e9_851e_0242ac120003row3_col3\" class=\"data row3 col3\" >When a Child Is Leading The World</td> \n",
       "        <td id=\"T_8bcb7c18_25d6_11e9_851e_0242ac120003row3_col4\" class=\"data row3 col4\" >16169</td> \n",
       "        <td id=\"T_8bcb7c18_25d6_11e9_851e_0242ac120003row3_col5\" class=\"data row3 col5\" >OpEd</td> \n",
       "        <td id=\"T_8bcb7c18_25d6_11e9_851e_0242ac120003row3_col6\" class=\"data row3 col6\" >165.153</td> \n",
       "        <td id=\"T_8bcb7c18_25d6_11e9_851e_0242ac120003row3_col7\" class=\"data row3 col7\" >2017-05-16 01:13:44</td> \n",
       "        <td id=\"T_8bcb7c18_25d6_11e9_851e_0242ac120003row3_col8\" class=\"data row3 col8\" ><a target=\"_blank\" href=\"https://www.nytimes.com/2017/05/15/opinion/trump-classified-data.html\"\">Link</a></td> \n",
       "    </tr>    <tr> \n",
       "        <th id=\"T_8bcb7c18_25d6_11e9_851e_0242ac120003level0_row4\" class=\"row_heading level0 row4\" >5930616f7c459f24986e2e41</th> \n",
       "        <td id=\"T_8bcb7c18_25d6_11e9_851e_0242ac120003row4_col0\" class=\"data row4 col0\" >3709</td> \n",
       "        <td id=\"T_8bcb7c18_25d6_11e9_851e_0242ac120003row4_col1\" class=\"data row4 col1\" >By MICHAEL D. SHEAR</td> \n",
       "        <td id=\"T_8bcb7c18_25d6_11e9_851e_0242ac120003row4_col2\" class=\"data row4 col2\" >173896</td> \n",
       "        <td id=\"T_8bcb7c18_25d6_11e9_851e_0242ac120003row4_col3\" class=\"data row4 col3\" >Trump Abandoning Global Climate Accord</td> \n",
       "        <td id=\"T_8bcb7c18_25d6_11e9_851e_0242ac120003row4_col4\" class=\"data row4 col4\" >27060</td> \n",
       "        <td id=\"T_8bcb7c18_25d6_11e9_851e_0242ac120003row4_col5\" class=\"data row4 col5\" >Foreign</td> \n",
       "        <td id=\"T_8bcb7c18_25d6_11e9_851e_0242ac120003row4_col6\" class=\"data row4 col6\" >171.479</td> \n",
       "        <td id=\"T_8bcb7c18_25d6_11e9_851e_0242ac120003row4_col7\" class=\"data row4 col7\" >2017-06-01 18:48:08</td> \n",
       "        <td id=\"T_8bcb7c18_25d6_11e9_851e_0242ac120003row4_col8\" class=\"data row4 col8\" ><a target=\"_blank\" href=\"https://www.nytimes.com/2017/06/01/climate/trump-paris-climate-agreement.html\"\">Link</a></td> \n",
       "    </tr></tbody> \n",
       "</table> "
      ],
      "text/plain": [
       "<pandas.io.formats.style.Styler at 0x7f341752fda0>"
      ]
     },
     "execution_count": 4,
     "metadata": {},
     "output_type": "execute_result"
    }
   ],
   "source": [
    "cur = graph.run(\"\"\"MATCH (a:ARTICLE)\n",
    "WITH a, SIZE(()-[:COMMENTED]->(a)) as cmtCnt\n",
    "ORDER BY cmtCnt DESC LIMIT 5\n",
    "MATCH p=()-[:COMMENTED]->(a)\n",
    "RETURN a, count(p)\"\"\")\n",
    "\n",
    "pd.DataFrame([{**res['a'], 'Comments': res['count(p)']} for res in yield_record(cur)]) \\\n",
    "    .sort_values('Comments', ascending=False) \\\n",
    "    .set_index('articleID') \\\n",
    "    .style.format({'webURL': lambda x: f'<a target=\"_blank\" href=\"{x}\"\">Link</a>'})"
   ]
  },
  {
   "cell_type": "markdown",
   "metadata": {},
   "source": [
    "### What users have the highest degree (i.e., most comments)?"
   ]
  },
  {
   "cell_type": "code",
   "execution_count": 5,
   "metadata": {},
   "outputs": [
    {
     "data": {
      "text/html": [
       "<div>\n",
       "<style scoped>\n",
       "    .dataframe tbody tr th:only-of-type {\n",
       "        vertical-align: middle;\n",
       "    }\n",
       "\n",
       "    .dataframe tbody tr th {\n",
       "        vertical-align: top;\n",
       "    }\n",
       "\n",
       "    .dataframe thead th {\n",
       "        text-align: right;\n",
       "    }\n",
       "</style>\n",
       "<table border=\"1\" class=\"dataframe\">\n",
       "  <thead>\n",
       "    <tr style=\"text-align: right;\">\n",
       "      <th></th>\n",
       "      <th>Comments</th>\n",
       "      <th>connComponent</th>\n",
       "      <th>labelProp</th>\n",
       "      <th>pagerank</th>\n",
       "      <th>userDisplayName</th>\n",
       "      <th>userLocation</th>\n",
       "    </tr>\n",
       "    <tr>\n",
       "      <th>userID</th>\n",
       "      <th></th>\n",
       "      <th></th>\n",
       "      <th></th>\n",
       "      <th></th>\n",
       "      <th></th>\n",
       "      <th></th>\n",
       "    </tr>\n",
       "  </thead>\n",
       "  <tbody>\n",
       "    <tr>\n",
       "      <th>61986282.0</th>\n",
       "      <td>1571</td>\n",
       "      <td>155742</td>\n",
       "      <td>62885</td>\n",
       "      <td>0.15</td>\n",
       "      <td>Phyliss Dalmatian</td>\n",
       "      <td>Wichita, Kansas</td>\n",
       "    </tr>\n",
       "    <tr>\n",
       "      <th>17374907.0</th>\n",
       "      <td>1235</td>\n",
       "      <td>155742</td>\n",
       "      <td>44749</td>\n",
       "      <td>0.15</td>\n",
       "      <td>Blackmamba</td>\n",
       "      <td>Il</td>\n",
       "    </tr>\n",
       "    <tr>\n",
       "      <th>47123844.0</th>\n",
       "      <td>1232</td>\n",
       "      <td>155742</td>\n",
       "      <td>62885</td>\n",
       "      <td>0.15</td>\n",
       "      <td>Richard Luettgen</td>\n",
       "      <td>New Jersey</td>\n",
       "    </tr>\n",
       "    <tr>\n",
       "      <th>47112177.0</th>\n",
       "      <td>1174</td>\n",
       "      <td>155742</td>\n",
       "      <td>6882</td>\n",
       "      <td>0.15</td>\n",
       "      <td>manfred m</td>\n",
       "      <td>Bolivia</td>\n",
       "    </tr>\n",
       "    <tr>\n",
       "      <th>37475504.0</th>\n",
       "      <td>1157</td>\n",
       "      <td>155742</td>\n",
       "      <td>6882</td>\n",
       "      <td>0.15</td>\n",
       "      <td>John Doe</td>\n",
       "      <td>Johnstown</td>\n",
       "    </tr>\n",
       "  </tbody>\n",
       "</table>\n",
       "</div>"
      ],
      "text/plain": [
       "            Comments  connComponent  labelProp  pagerank    userDisplayName  \\\n",
       "userID                                                                        \n",
       "61986282.0      1571         155742      62885      0.15  Phyliss Dalmatian   \n",
       "17374907.0      1235         155742      44749      0.15         Blackmamba   \n",
       "47123844.0      1232         155742      62885      0.15   Richard Luettgen   \n",
       "47112177.0      1174         155742       6882      0.15          manfred m   \n",
       "37475504.0      1157         155742       6882      0.15           John Doe   \n",
       "\n",
       "               userLocation  \n",
       "userID                       \n",
       "61986282.0  Wichita, Kansas  \n",
       "17374907.0               Il  \n",
       "47123844.0       New Jersey  \n",
       "47112177.0          Bolivia  \n",
       "37475504.0        Johnstown  "
      ]
     },
     "execution_count": 5,
     "metadata": {},
     "output_type": "execute_result"
    }
   ],
   "source": [
    "cur = graph.run(\"\"\"MATCH (u:USER)\n",
    "WITH u, SIZE((u)-[:COMMENTED]->()) as cmtCnt\n",
    "ORDER BY cmtCnt DESC LIMIT 5\n",
    "MATCH p=(u)-[:COMMENTED]->()\n",
    "RETURN u, count(p)\"\"\")\n",
    "\n",
    "pd.DataFrame([{**res['u'], 'Comments': res['count(p)']} for res in yield_record(cur)]) \\\n",
    "    .sort_values('Comments', ascending=False) \\\n",
    "    .set_index('userID')"
   ]
  },
  {
   "cell_type": "markdown",
   "metadata": {},
   "source": [
    "# Run PageRank and Connected Components"
   ]
  },
  {
   "cell_type": "code",
   "execution_count": 6,
   "metadata": {},
   "outputs": [
    {
     "data": {
      "text/html": [
       "<div>\n",
       "<style scoped>\n",
       "    .dataframe tbody tr th:only-of-type {\n",
       "        vertical-align: middle;\n",
       "    }\n",
       "\n",
       "    .dataframe tbody tr th {\n",
       "        vertical-align: top;\n",
       "    }\n",
       "\n",
       "    .dataframe thead th {\n",
       "        text-align: right;\n",
       "    }\n",
       "</style>\n",
       "<table border=\"1\" class=\"dataframe\">\n",
       "  <thead>\n",
       "    <tr style=\"text-align: right;\">\n",
       "      <th></th>\n",
       "      <th>computeMillis</th>\n",
       "      <th>dampingFactor</th>\n",
       "      <th>iterations</th>\n",
       "      <th>loadMillis</th>\n",
       "      <th>nodes</th>\n",
       "      <th>write</th>\n",
       "      <th>writeMillis</th>\n",
       "      <th>writeProperty</th>\n",
       "    </tr>\n",
       "  </thead>\n",
       "  <tbody>\n",
       "    <tr>\n",
       "      <th>0</th>\n",
       "      <td>196</td>\n",
       "      <td>0.85</td>\n",
       "      <td>20</td>\n",
       "      <td>2236</td>\n",
       "      <td>310980</td>\n",
       "      <td>True</td>\n",
       "      <td>15639</td>\n",
       "      <td>pagerank</td>\n",
       "    </tr>\n",
       "  </tbody>\n",
       "</table>\n",
       "</div>"
      ],
      "text/plain": [
       "   computeMillis  dampingFactor  iterations  loadMillis   nodes  write  \\\n",
       "0            196           0.85          20        2236  310980   True   \n",
       "\n",
       "   writeMillis writeProperty  \n",
       "0        15639      pagerank  "
      ]
     },
     "execution_count": 6,
     "metadata": {},
     "output_type": "execute_result"
    }
   ],
   "source": [
    "op = \"\"\"CALL algo.pageRank(null, null, {iterations:20, dampingFactor:0.85, write: true, writeProperty:\"pagerank\"})\n",
    "YIELD nodes, iterations, loadMillis, computeMillis, writeMillis, dampingFactor, write, writeProperty\"\"\"\n",
    "pd.DataFrame([graph.run(op).next().data()])"
   ]
  },
  {
   "cell_type": "code",
   "execution_count": 7,
   "metadata": {},
   "outputs": [
    {
     "data": {
      "text/html": [
       "<div>\n",
       "<style scoped>\n",
       "    .dataframe tbody tr th:only-of-type {\n",
       "        vertical-align: middle;\n",
       "    }\n",
       "\n",
       "    .dataframe tbody tr th {\n",
       "        vertical-align: top;\n",
       "    }\n",
       "\n",
       "    .dataframe thead th {\n",
       "        text-align: right;\n",
       "    }\n",
       "</style>\n",
       "<table border=\"1\" class=\"dataframe\">\n",
       "  <thead>\n",
       "    <tr style=\"text-align: right;\">\n",
       "      <th></th>\n",
       "      <th>computeMillis</th>\n",
       "      <th>loadMillis</th>\n",
       "      <th>nodes</th>\n",
       "      <th>setCount</th>\n",
       "      <th>writeMillis</th>\n",
       "    </tr>\n",
       "  </thead>\n",
       "  <tbody>\n",
       "    <tr>\n",
       "      <th>0</th>\n",
       "      <td>37</td>\n",
       "      <td>2006</td>\n",
       "      <td>310980</td>\n",
       "      <td>2369</td>\n",
       "      <td>11370</td>\n",
       "    </tr>\n",
       "  </tbody>\n",
       "</table>\n",
       "</div>"
      ],
      "text/plain": [
       "   computeMillis  loadMillis   nodes  setCount  writeMillis\n",
       "0             37        2006  310980      2369        11370"
      ]
     },
     "execution_count": 7,
     "metadata": {},
     "output_type": "execute_result"
    }
   ],
   "source": [
    "op = \"\"\"CALL algo.unionFind(null, null, {write:true, partitionProperty:\"connComponent\"})\n",
    "YIELD nodes, setCount, loadMillis, computeMillis, writeMillis;\"\"\"\n",
    "pd.DataFrame([graph.run(op).next().data()])"
   ]
  },
  {
   "cell_type": "markdown",
   "metadata": {},
   "source": [
    "## How many subgraphs are there?"
   ]
  },
  {
   "cell_type": "code",
   "execution_count": 8,
   "metadata": {},
   "outputs": [
    {
     "name": "stdout",
     "output_type": "stream",
     "text": [
      "Subgraphs: 2369\n"
     ]
    },
    {
     "data": {
      "text/html": [
       "<div>\n",
       "<style scoped>\n",
       "    .dataframe tbody tr th:only-of-type {\n",
       "        vertical-align: middle;\n",
       "    }\n",
       "\n",
       "    .dataframe tbody tr th {\n",
       "        vertical-align: top;\n",
       "    }\n",
       "\n",
       "    .dataframe thead th {\n",
       "        text-align: right;\n",
       "    }\n",
       "</style>\n",
       "<table border=\"1\" class=\"dataframe\">\n",
       "  <thead>\n",
       "    <tr style=\"text-align: right;\">\n",
       "      <th></th>\n",
       "      <th>nNodes</th>\n",
       "    </tr>\n",
       "    <tr>\n",
       "      <th>partition</th>\n",
       "      <th></th>\n",
       "    </tr>\n",
       "  </thead>\n",
       "  <tbody>\n",
       "    <tr>\n",
       "      <th>155742</th>\n",
       "      <td>208774</td>\n",
       "    </tr>\n",
       "    <tr>\n",
       "      <th>173896</th>\n",
       "      <td>99666</td>\n",
       "    </tr>\n",
       "    <tr>\n",
       "      <th>158068</th>\n",
       "      <td>13</td>\n",
       "    </tr>\n",
       "    <tr>\n",
       "      <th>195223</th>\n",
       "      <td>6</td>\n",
       "    </tr>\n",
       "    <tr>\n",
       "      <th>258842</th>\n",
       "      <td>6</td>\n",
       "    </tr>\n",
       "  </tbody>\n",
       "</table>\n",
       "</div>"
      ],
      "text/plain": [
       "           nNodes\n",
       "partition        \n",
       "155742     208774\n",
       "173896      99666\n",
       "158068         13\n",
       "195223          6\n",
       "258842          6"
      ]
     },
     "execution_count": 8,
     "metadata": {},
     "output_type": "execute_result"
    }
   ],
   "source": [
    "op = \"\"\"MATCH (n) RETURN distinct(n.connComponent) as partition, count(*) as nNodes ORDER by nNodes DESC\"\"\"\n",
    "cur = graph.run(op)\n",
    "records = list(yield_record(cur))\n",
    "print('Subgraphs: {}'.format(len(records)))\n",
    "pd.DataFrame(records).set_index('partition').head()"
   ]
  },
  {
   "cell_type": "markdown",
   "metadata": {},
   "source": [
    "## What are the most influential articles?"
   ]
  },
  {
   "cell_type": "code",
   "execution_count": 9,
   "metadata": {},
   "outputs": [
    {
     "data": {
      "text/html": [
       "<style  type=\"text/css\" >\n",
       "</style>  \n",
       "<table id=\"T_a0c2bcda_25d6_11e9_851e_0242ac120003\" > \n",
       "<thead>    <tr> \n",
       "        <th class=\"blank level0\" ></th> \n",
       "        <th class=\"col_heading level0 col0\" >byline</th> \n",
       "        <th class=\"col_heading level0 col1\" >headline</th> \n",
       "        <th class=\"col_heading level0 col2\" >labelProp</th> \n",
       "        <th class=\"col_heading level0 col3\" >newDesk</th> \n",
       "        <th class=\"col_heading level0 col4\" >pagerank</th> \n",
       "        <th class=\"col_heading level0 col5\" >pubDate</th> \n",
       "        <th class=\"col_heading level0 col6\" >webURL</th> \n",
       "    </tr>    <tr> \n",
       "        <th class=\"index_name level0\" >articleID</th> \n",
       "        <th class=\"blank\" ></th> \n",
       "        <th class=\"blank\" ></th> \n",
       "        <th class=\"blank\" ></th> \n",
       "        <th class=\"blank\" ></th> \n",
       "        <th class=\"blank\" ></th> \n",
       "        <th class=\"blank\" ></th> \n",
       "        <th class=\"blank\" ></th> \n",
       "    </tr></thead> \n",
       "<tbody>    <tr> \n",
       "        <th id=\"T_a0c2bcda_25d6_11e9_851e_0242ac120003level0_row0\" class=\"row_heading level0 row0\" >58e4d28e7c459f24986d87c9</th> \n",
       "        <td id=\"T_a0c2bcda_25d6_11e9_851e_0242ac120003row0_col0\" class=\"data row0 col0\" >By KATHERINE SCHULTEN</td> \n",
       "        <td id=\"T_a0c2bcda_25d6_11e9_851e_0242ac120003row0_col1\" class=\"data row0 col1\" >Our Eighth Annual Found Poem Student Contest</td> \n",
       "        <td id=\"T_a0c2bcda_25d6_11e9_851e_0242ac120003row0_col2\" class=\"data row0 col2\" >2095</td> \n",
       "        <td id=\"T_a0c2bcda_25d6_11e9_851e_0242ac120003row0_col3\" class=\"data row0 col3\" >Learning</td> \n",
       "        <td id=\"T_a0c2bcda_25d6_11e9_851e_0242ac120003row0_col4\" class=\"data row0 col4\" >272.599</td> \n",
       "        <td id=\"T_a0c2bcda_25d6_11e9_851e_0242ac120003row0_col5\" class=\"data row0 col5\" >2017-04-05 11:18:34</td> \n",
       "        <td id=\"T_a0c2bcda_25d6_11e9_851e_0242ac120003row0_col6\" class=\"data row0 col6\" ><a target=\"_blank\" href=\"https://www.nytimes.com/2017/04/05/learning/our-eighth-annual-found-poem-student-contest.html\"\">Link</a></td> \n",
       "    </tr>    <tr> \n",
       "        <th id=\"T_a0c2bcda_25d6_11e9_851e_0242ac120003level0_row1\" class=\"row_heading level0 row1\" >58ebb1437c459f24986d96ed</th> \n",
       "        <td id=\"T_a0c2bcda_25d6_11e9_851e_0242ac120003row1_col0\" class=\"data row1 col0\" >By DANIEL VICTOR and MATT STEVENS</td> \n",
       "        <td id=\"T_a0c2bcda_25d6_11e9_851e_0242ac120003row1_col1\" class=\"data row1 col1\" >Man Is Dragged From a Full Jet, Stirring a Furor</td> \n",
       "        <td id=\"T_a0c2bcda_25d6_11e9_851e_0242ac120003row1_col2\" class=\"data row1 col2\" >2781</td> \n",
       "        <td id=\"T_a0c2bcda_25d6_11e9_851e_0242ac120003row1_col3\" class=\"data row1 col3\" >Business</td> \n",
       "        <td id=\"T_a0c2bcda_25d6_11e9_851e_0242ac120003row1_col4\" class=\"data row1 col4\" >239.803</td> \n",
       "        <td id=\"T_a0c2bcda_25d6_11e9_851e_0242ac120003row1_col5\" class=\"data row1 col5\" >2017-04-10 16:22:22</td> \n",
       "        <td id=\"T_a0c2bcda_25d6_11e9_851e_0242ac120003row1_col6\" class=\"data row1 col6\" ><a target=\"_blank\" href=\"https://www.nytimes.com/2017/04/10/business/united-flight-passenger-dragged.html\"\">Link</a></td> \n",
       "    </tr>    <tr> \n",
       "        <th id=\"T_a0c2bcda_25d6_11e9_851e_0242ac120003level0_row2\" class=\"row_heading level0 row2\" >58b0894195d0e0247463875e</th> \n",
       "        <td id=\"T_a0c2bcda_25d6_11e9_851e_0242ac120003row2_col0\" class=\"data row2 col0\" >By JULIE HIRSCHFELD DAVIS and MICHAEL M. GRYNBAUM</td> \n",
       "        <td id=\"T_a0c2bcda_25d6_11e9_851e_0242ac120003row2_col1\" class=\"data row2 col1\" >Trump Intensifies Criticism of F.B.I. and Journalists</td> \n",
       "        <td id=\"T_a0c2bcda_25d6_11e9_851e_0242ac120003row2_col2\" class=\"data row2 col2\" >1749</td> \n",
       "        <td id=\"T_a0c2bcda_25d6_11e9_851e_0242ac120003row2_col3\" class=\"data row2 col3\" >National</td> \n",
       "        <td id=\"T_a0c2bcda_25d6_11e9_851e_0242ac120003row2_col4\" class=\"data row2 col4\" >195.696</td> \n",
       "        <td id=\"T_a0c2bcda_25d6_11e9_851e_0242ac120003row2_col5\" class=\"data row2 col5\" >2017-02-24 19:27:53</td> \n",
       "        <td id=\"T_a0c2bcda_25d6_11e9_851e_0242ac120003row2_col6\" class=\"data row2 col6\" ><a target=\"_blank\" href=\"https://www.nytimes.com/2017/02/24/us/politics/white-house-sean-spicer-briefing.html\"\">Link</a></td> \n",
       "    </tr>    <tr> \n",
       "        <th id=\"T_a0c2bcda_25d6_11e9_851e_0242ac120003level0_row3\" class=\"row_heading level0 row3\" >5930616f7c459f24986e2e41</th> \n",
       "        <td id=\"T_a0c2bcda_25d6_11e9_851e_0242ac120003row3_col0\" class=\"data row3 col0\" >By MICHAEL D. SHEAR</td> \n",
       "        <td id=\"T_a0c2bcda_25d6_11e9_851e_0242ac120003row3_col1\" class=\"data row3 col1\" >Trump Abandoning Global Climate Accord</td> \n",
       "        <td id=\"T_a0c2bcda_25d6_11e9_851e_0242ac120003row3_col2\" class=\"data row3 col2\" >27060</td> \n",
       "        <td id=\"T_a0c2bcda_25d6_11e9_851e_0242ac120003row3_col3\" class=\"data row3 col3\" >Foreign</td> \n",
       "        <td id=\"T_a0c2bcda_25d6_11e9_851e_0242ac120003row3_col4\" class=\"data row3 col4\" >171.479</td> \n",
       "        <td id=\"T_a0c2bcda_25d6_11e9_851e_0242ac120003row3_col5\" class=\"data row3 col5\" >2017-06-01 18:48:08</td> \n",
       "        <td id=\"T_a0c2bcda_25d6_11e9_851e_0242ac120003row3_col6\" class=\"data row3 col6\" ><a target=\"_blank\" href=\"https://www.nytimes.com/2017/06/01/climate/trump-paris-climate-agreement.html\"\">Link</a></td> \n",
       "    </tr>    <tr> \n",
       "        <th id=\"T_a0c2bcda_25d6_11e9_851e_0242ac120003level0_row4\" class=\"row_heading level0 row4\" >591a524d7c459f24986dfc28</th> \n",
       "        <td id=\"T_a0c2bcda_25d6_11e9_851e_0242ac120003row4_col0\" class=\"data row4 col0\" >By DAVID BROOKS</td> \n",
       "        <td id=\"T_a0c2bcda_25d6_11e9_851e_0242ac120003row4_col1\" class=\"data row4 col1\" >When a Child Is Leading The World</td> \n",
       "        <td id=\"T_a0c2bcda_25d6_11e9_851e_0242ac120003row4_col2\" class=\"data row4 col2\" >16169</td> \n",
       "        <td id=\"T_a0c2bcda_25d6_11e9_851e_0242ac120003row4_col3\" class=\"data row4 col3\" >OpEd</td> \n",
       "        <td id=\"T_a0c2bcda_25d6_11e9_851e_0242ac120003row4_col4\" class=\"data row4 col4\" >165.153</td> \n",
       "        <td id=\"T_a0c2bcda_25d6_11e9_851e_0242ac120003row4_col5\" class=\"data row4 col5\" >2017-05-16 01:13:44</td> \n",
       "        <td id=\"T_a0c2bcda_25d6_11e9_851e_0242ac120003row4_col6\" class=\"data row4 col6\" ><a target=\"_blank\" href=\"https://www.nytimes.com/2017/05/15/opinion/trump-classified-data.html\"\">Link</a></td> \n",
       "    </tr></tbody> \n",
       "</table> "
      ],
      "text/plain": [
       "<pandas.io.formats.style.Styler at 0x7f3414315b70>"
      ]
     },
     "execution_count": 9,
     "metadata": {},
     "output_type": "execute_result"
    }
   ],
   "source": [
    "cur = graph.run(\"\"\"MATCH (n:ARTICLE)\n",
    "RETURN n\n",
    "ORDER by n.pagerank\n",
    "DESC LIMIT 5\"\"\")\n",
    "pd.DataFrame([rec['n'] for rec in yield_record(cur)]) \\\n",
    "    .sort_values('pagerank', ascending=False) \\\n",
    "    .set_index('articleID') \\\n",
    "    .drop('connComponent', axis=1) \\\n",
    "    .style.format({'webURL': lambda x: f'<a target=\"_blank\" href=\"{x}\"\">Link</a>'})"
   ]
  },
  {
   "cell_type": "markdown",
   "metadata": {},
   "source": [
    "## Simple collaborative filtering"
   ]
  },
  {
   "cell_type": "code",
   "execution_count": 71,
   "metadata": {},
   "outputs": [
    {
     "data": {
      "text/plain": [
       "(_63025:ARTICLE {articleID: '5ad52a7e068401528a2a902a', byline: 'By MICHELLE GOLDBERG', connComponent: 155742, headline: 'Lordy, Is There a Tape?', labelProp: 63025, newDesk: 'OpEd', pagerank: 4.320236, pubDate: '2018-04-16 22:58:05', webURL: 'https://www.nytimes.com/2018/04/16/opinion/comey-book-steele-dossier.html'})"
      ]
     },
     "execution_count": 71,
     "metadata": {},
     "output_type": "execute_result"
    }
   ],
   "source": [
    "cur = graph.run(\"\"\"MATCH (n:ARTICLE) \n",
    "WITH n, rand() as r\n",
    "ORDER BY r\n",
    "RETURN n\n",
    "LIMIT 1\n",
    "\"\"\")\n",
    "article = cur.next().data()['n']\n",
    "article"
   ]
  },
  {
   "cell_type": "code",
   "execution_count": 72,
   "metadata": {},
   "outputs": [],
   "source": [
    "cur = graph.run(\"\"\"MATCH (n:ARTICLE {{articleID: '{0}'}})-[]-(:USER)-[]-(m:ARTICLE)\n",
    "WHERE NOT m.articleID = '{0}'\n",
    "RETURN m\"\"\".format(article['articleID']))\n",
    "rows = [rec['m'] for rec in yield_record(cur)]"
   ]
  },
  {
   "cell_type": "code",
   "execution_count": 73,
   "metadata": {
    "scrolled": false
   },
   "outputs": [
    {
     "data": {
      "text/html": [
       "<style  type=\"text/css\" >\n",
       "</style>  \n",
       "<table id=\"T_7c8b3546_25da_11e9_851e_0242ac120003\" > \n",
       "<thead>    <tr> \n",
       "        <th class=\"blank level0\" ></th> \n",
       "        <th class=\"col_heading level0 col0\" >articleID</th> \n",
       "        <th class=\"col_heading level0 col1\" >byline</th> \n",
       "        <th class=\"col_heading level0 col2\" >connComponent</th> \n",
       "        <th class=\"col_heading level0 col3\" >headline</th> \n",
       "        <th class=\"col_heading level0 col4\" >labelProp</th> \n",
       "        <th class=\"col_heading level0 col5\" >newDesk</th> \n",
       "        <th class=\"col_heading level0 col6\" >pagerank</th> \n",
       "        <th class=\"col_heading level0 col7\" >pubDate</th> \n",
       "        <th class=\"col_heading level0 col8\" >webURL</th> \n",
       "        <th class=\"col_heading level0 col9\" >N</th> \n",
       "    </tr></thead> \n",
       "<tbody>    <tr> \n",
       "        <th id=\"T_7c8b3546_25da_11e9_851e_0242ac120003level0_row0\" class=\"row_heading level0 row0\" >55439</th> \n",
       "        <td id=\"T_7c8b3546_25da_11e9_851e_0242ac120003row0_col0\" class=\"data row0 col0\" >5acd2e87068401528a2a690c</td> \n",
       "        <td id=\"T_7c8b3546_25da_11e9_851e_0242ac120003row0_col1\" class=\"data row0 col1\" >By THE EDITORIAL BOARD</td> \n",
       "        <td id=\"T_7c8b3546_25da_11e9_851e_0242ac120003row0_col2\" class=\"data row0 col2\" >155742</td> \n",
       "        <td id=\"T_7c8b3546_25da_11e9_851e_0242ac120003row0_col3\" class=\"data row0 col3\" >The Law Is Coming, Mr. Trump</td> \n",
       "        <td id=\"T_7c8b3546_25da_11e9_851e_0242ac120003row0_col4\" class=\"data row0 col4\" >62425</td> \n",
       "        <td id=\"T_7c8b3546_25da_11e9_851e_0242ac120003row0_col5\" class=\"data row0 col5\" >Editorial</td> \n",
       "        <td id=\"T_7c8b3546_25da_11e9_851e_0242ac120003row0_col6\" class=\"data row0 col6\" >33.0822</td> \n",
       "        <td id=\"T_7c8b3546_25da_11e9_851e_0242ac120003row0_col7\" class=\"data row0 col7\" >2018-04-10 21:37:09</td> \n",
       "        <td id=\"T_7c8b3546_25da_11e9_851e_0242ac120003row0_col8\" class=\"data row0 col8\" ><a target=\"_blank\" href=\"https://www.nytimes.com/2018/04/10/opinion/trump-michael-cohen-raid.html\"\">Link</a></td> \n",
       "        <td id=\"T_7c8b3546_25da_11e9_851e_0242ac120003row0_col9\" class=\"data row0 col9\" >117</td> \n",
       "    </tr>    <tr> \n",
       "        <th id=\"T_7c8b3546_25da_11e9_851e_0242ac120003level0_row1\" class=\"row_heading level0 row1\" >14771</th> \n",
       "        <td id=\"T_7c8b3546_25da_11e9_851e_0242ac120003row1_col0\" class=\"data row1 col0\" >5aaf074647de81a90121246d</td> \n",
       "        <td id=\"T_7c8b3546_25da_11e9_851e_0242ac120003row1_col1\" class=\"data row1 col1\" >By CHARLES M. BLOW</td> \n",
       "        <td id=\"T_7c8b3546_25da_11e9_851e_0242ac120003row1_col2\" class=\"data row1 col2\" >155742</td> \n",
       "        <td id=\"T_7c8b3546_25da_11e9_851e_0242ac120003row1_col3\" class=\"data row1 col3\" >Trump: The  Un-American  President</td> \n",
       "        <td id=\"T_7c8b3546_25da_11e9_851e_0242ac120003row1_col4\" class=\"data row1 col4\" >6922</td> \n",
       "        <td id=\"T_7c8b3546_25da_11e9_851e_0242ac120003row1_col5\" class=\"data row1 col5\" >OpEd</td> \n",
       "        <td id=\"T_7c8b3546_25da_11e9_851e_0242ac120003row1_col6\" class=\"data row1 col6\" >14.336</td> \n",
       "        <td id=\"T_7c8b3546_25da_11e9_851e_0242ac120003row1_col7\" class=\"data row1 col7\" >2018-03-19 00:41:39</td> \n",
       "        <td id=\"T_7c8b3546_25da_11e9_851e_0242ac120003row1_col8\" class=\"data row1 col8\" ><a target=\"_blank\" href=\"https://www.nytimes.com/2018/03/18/opinion/trudeau-trump-deficit.html\"\">Link</a></td> \n",
       "        <td id=\"T_7c8b3546_25da_11e9_851e_0242ac120003row1_col9\" class=\"data row1 col9\" >106</td> \n",
       "    </tr>    <tr> \n",
       "        <th id=\"T_7c8b3546_25da_11e9_851e_0242ac120003level0_row2\" class=\"row_heading level0 row2\" >11803</th> \n",
       "        <td id=\"T_7c8b3546_25da_11e9_851e_0242ac120003row2_col0\" class=\"data row2 col0\" >5aa5ccab47de81a90120d30c</td> \n",
       "        <td id=\"T_7c8b3546_25da_11e9_851e_0242ac120003row2_col1\" class=\"data row2 col1\" >By CHARLES M. BLOW</td> \n",
       "        <td id=\"T_7c8b3546_25da_11e9_851e_0242ac120003row2_col2\" class=\"data row2 col2\" >155742</td> \n",
       "        <td id=\"T_7c8b3546_25da_11e9_851e_0242ac120003row2_col3\" class=\"data row2 col3\" >Melania Knew</td> \n",
       "        <td id=\"T_7c8b3546_25da_11e9_851e_0242ac120003row2_col4\" class=\"data row2 col4\" >6587</td> \n",
       "        <td id=\"T_7c8b3546_25da_11e9_851e_0242ac120003row2_col5\" class=\"data row2 col5\" >OpEd</td> \n",
       "        <td id=\"T_7c8b3546_25da_11e9_851e_0242ac120003row2_col6\" class=\"data row2 col6\" >23.7514</td> \n",
       "        <td id=\"T_7c8b3546_25da_11e9_851e_0242ac120003row2_col7\" class=\"data row2 col7\" >2018-03-12 00:41:11</td> \n",
       "        <td id=\"T_7c8b3546_25da_11e9_851e_0242ac120003row2_col8\" class=\"data row2 col8\" ><a target=\"_blank\" href=\"https://www.nytimes.com/2018/03/11/opinion/melania-trump-stormy.html\"\">Link</a></td> \n",
       "        <td id=\"T_7c8b3546_25da_11e9_851e_0242ac120003row2_col9\" class=\"data row2 col9\" >105</td> \n",
       "    </tr>    <tr> \n",
       "        <th id=\"T_7c8b3546_25da_11e9_851e_0242ac120003level0_row3\" class=\"row_heading level0 row3\" >35746</th> \n",
       "        <td id=\"T_7c8b3546_25da_11e9_851e_0242ac120003row3_col0\" class=\"data row3 col0\" >58bcc2ba7c459f2525d1ff90</td> \n",
       "        <td id=\"T_7c8b3546_25da_11e9_851e_0242ac120003row3_col1\" class=\"data row3 col1\" >By THE EDITORIAL BOARD</td> \n",
       "        <td id=\"T_7c8b3546_25da_11e9_851e_0242ac120003row3_col2\" class=\"data row3 col2\" >155742</td> \n",
       "        <td id=\"T_7c8b3546_25da_11e9_851e_0242ac120003row3_col3\" class=\"data row3 col3\" >When One President Smears Another</td> \n",
       "        <td id=\"T_7c8b3546_25da_11e9_851e_0242ac120003row3_col4\" class=\"data row3 col4\" >44269</td> \n",
       "        <td id=\"T_7c8b3546_25da_11e9_851e_0242ac120003row3_col5\" class=\"data row3 col5\" >Editorial</td> \n",
       "        <td id=\"T_7c8b3546_25da_11e9_851e_0242ac120003row3_col6\" class=\"data row3 col6\" >34.0502</td> \n",
       "        <td id=\"T_7c8b3546_25da_11e9_851e_0242ac120003row3_col7\" class=\"data row3 col7\" >2017-03-06 02:00:17</td> \n",
       "        <td id=\"T_7c8b3546_25da_11e9_851e_0242ac120003row3_col8\" class=\"data row3 col8\" ><a target=\"_blank\" href=\"https://www.nytimes.com/2017/03/05/opinion/when-one-president-smears-another.html\"\">Link</a></td> \n",
       "        <td id=\"T_7c8b3546_25da_11e9_851e_0242ac120003row3_col9\" class=\"data row3 col9\" >94</td> \n",
       "    </tr>    <tr> \n",
       "        <th id=\"T_7c8b3546_25da_11e9_851e_0242ac120003level0_row4\" class=\"row_heading level0 row4\" >53585</th> \n",
       "        <td id=\"T_7c8b3546_25da_11e9_851e_0242ac120003row4_col0\" class=\"data row4 col0\" >5ad3a684068401528a2a8cfd</td> \n",
       "        <td id=\"T_7c8b3546_25da_11e9_851e_0242ac120003row4_col1\" class=\"data row4 col1\" >By MICHAEL D. SHEAR and PETER BAKER</td> \n",
       "        <td id=\"T_7c8b3546_25da_11e9_851e_0242ac120003row4_col2\" class=\"data row4 col2\" >155742</td> \n",
       "        <td id=\"T_7c8b3546_25da_11e9_851e_0242ac120003row4_col3\" class=\"data row4 col3\" >Comey, in Interview, Launches All-Out War Against President</td> \n",
       "        <td id=\"T_7c8b3546_25da_11e9_851e_0242ac120003row4_col4\" class=\"data row4 col4\" >62234</td> \n",
       "        <td id=\"T_7c8b3546_25da_11e9_851e_0242ac120003row4_col5\" class=\"data row4 col5\" >Washington</td> \n",
       "        <td id=\"T_7c8b3546_25da_11e9_851e_0242ac120003row4_col6\" class=\"data row4 col6\" >18.349</td> \n",
       "        <td id=\"T_7c8b3546_25da_11e9_851e_0242ac120003row4_col7\" class=\"data row4 col7\" >2018-04-15 19:22:39</td> \n",
       "        <td id=\"T_7c8b3546_25da_11e9_851e_0242ac120003row4_col8\" class=\"data row4 col8\" ><a target=\"_blank\" href=\"https://www.nytimes.com/2018/04/15/us/politics/comey-interview-trump.html\"\">Link</a></td> \n",
       "        <td id=\"T_7c8b3546_25da_11e9_851e_0242ac120003row4_col9\" class=\"data row4 col9\" >94</td> \n",
       "    </tr></tbody> \n",
       "</table> "
      ],
      "text/plain": [
       "<pandas.io.formats.style.Styler at 0x7f33fec66b38>"
      ]
     },
     "execution_count": 73,
     "metadata": {},
     "output_type": "execute_result"
    }
   ],
   "source": [
    "df = pd.DataFrame(rows)\n",
    "N = pd.DataFrame(df.groupby('articleID').size().rename('N'))\n",
    "df1 = df.merge(N, left_on='articleID', right_on='articleID').drop_duplicates()\n",
    "df1.sort_values(['N', 'pagerank'], ascending=False).head(5).style.format({'webURL': lambda x: f'<a target=\"_blank\" href=\"{x}\"\">Link</a>'})"
   ]
  },
  {
   "cell_type": "code",
   "execution_count": null,
   "metadata": {},
   "outputs": [],
   "source": []
  }
 ],
 "metadata": {
  "kernelspec": {
   "display_name": "Python 3",
   "language": "python",
   "name": "python3"
  },
  "language_info": {
   "codemirror_mode": {
    "name": "ipython",
    "version": 3
   },
   "file_extension": ".py",
   "mimetype": "text/x-python",
   "name": "python",
   "nbconvert_exporter": "python",
   "pygments_lexer": "ipython3",
   "version": "3.6.7"
  }
 },
 "nbformat": 4,
 "nbformat_minor": 2
}
