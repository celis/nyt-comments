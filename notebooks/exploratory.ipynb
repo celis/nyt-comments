{
 "cells": [
  {
   "cell_type": "code",
   "execution_count": 1,
   "metadata": {
    "scrolled": true
   },
   "outputs": [],
   "source": [
    "%%capture\n",
    "import sys\n",
    "!{sys.executable} -m pip install py2neo;\n",
    "import py2neo\n",
    "import pandas as pd"
   ]
  },
  {
   "cell_type": "code",
   "execution_count": 2,
   "metadata": {},
   "outputs": [],
   "source": [
    "graph = py2neo.Graph('http://neo4j:7474')\n",
    "\n",
    "def yield_results(cursor):\n",
    "    halt = False\n",
    "    while not halt:\n",
    "        try:\n",
    "            yield cur.next().data()\n",
    "        except:\n",
    "            halt = True"
   ]
  },
  {
   "cell_type": "markdown",
   "metadata": {},
   "source": [
    "# New York Times Comments\n",
    "The data contains information about the comments made on the articles published in New York Times in Jan-May 2017 and Jan-April 2018.\n",
    "\n",
    "See: https://www.kaggle.com/aashita/nyt-comments/home"
   ]
  },
  {
   "cell_type": "markdown",
   "metadata": {},
   "source": [
    "## Data Summary\n",
    "### Record Counts"
   ]
  },
  {
   "cell_type": "code",
   "execution_count": 3,
   "metadata": {},
   "outputs": [
    {
     "data": {
      "text/html": [
       "<div>\n",
       "<style scoped>\n",
       "    .dataframe tbody tr th:only-of-type {\n",
       "        vertical-align: middle;\n",
       "    }\n",
       "\n",
       "    .dataframe tbody tr th {\n",
       "        vertical-align: top;\n",
       "    }\n",
       "\n",
       "    .dataframe thead th {\n",
       "        text-align: right;\n",
       "    }\n",
       "</style>\n",
       "<table border=\"1\" class=\"dataframe\">\n",
       "  <thead>\n",
       "    <tr style=\"text-align: right;\">\n",
       "      <th></th>\n",
       "      <th>Counts</th>\n",
       "    </tr>\n",
       "  </thead>\n",
       "  <tbody>\n",
       "    <tr>\n",
       "      <th>Articles</th>\n",
       "      <td>9298</td>\n",
       "    </tr>\n",
       "    <tr>\n",
       "      <th>Users</th>\n",
       "      <td>301682</td>\n",
       "    </tr>\n",
       "    <tr>\n",
       "      <th>Comments</th>\n",
       "      <td>1723935</td>\n",
       "    </tr>\n",
       "  </tbody>\n",
       "</table>\n",
       "</div>"
      ],
      "text/plain": [
       "           Counts\n",
       "Articles     9298\n",
       "Users      301682\n",
       "Comments  1723935"
      ]
     },
     "execution_count": 3,
     "metadata": {},
     "output_type": "execute_result"
    }
   ],
   "source": [
    "pd.DataFrame(\n",
    "    [\n",
    "        graph.run(\"MATCH (n:ARTICLE) RETURN count(*)\").next().data()['count(*)'],\n",
    "        graph.run(\"MATCH (n:USER) RETURN count(*)\").next().data()['count(*)'],\n",
    "        graph.run(\"MATCH ()-[r:COMMENTED]->() RETURN count(*)\").next().data()['count(*)']\n",
    "    ],\n",
    "    index=['Articles', 'Users', 'Comments'],\n",
    "    columns=['Counts']\n",
    ")"
   ]
  },
  {
   "cell_type": "markdown",
   "metadata": {},
   "source": [
    "### What articles have the highest degree (i.e., most comments)?"
   ]
  },
  {
   "cell_type": "code",
   "execution_count": 4,
   "metadata": {},
   "outputs": [
    {
     "data": {
      "text/html": [
       "<style  type=\"text/css\" >\n",
       "</style>  \n",
       "<table id=\"T_a217d4e6_2449_11e9_b2c0_0242ac120003\" > \n",
       "<thead>    <tr> \n",
       "        <th class=\"blank level0\" ></th> \n",
       "        <th class=\"col_heading level0 col0\" >Comments</th> \n",
       "        <th class=\"col_heading level0 col1\" >byline</th> \n",
       "        <th class=\"col_heading level0 col2\" >headline</th> \n",
       "        <th class=\"col_heading level0 col3\" >newDesk</th> \n",
       "        <th class=\"col_heading level0 col4\" >pubDate</th> \n",
       "        <th class=\"col_heading level0 col5\" >webURL</th> \n",
       "    </tr>    <tr> \n",
       "        <th class=\"index_name level0\" >articleID</th> \n",
       "        <th class=\"blank\" ></th> \n",
       "        <th class=\"blank\" ></th> \n",
       "        <th class=\"blank\" ></th> \n",
       "        <th class=\"blank\" ></th> \n",
       "        <th class=\"blank\" ></th> \n",
       "        <th class=\"blank\" ></th> \n",
       "    </tr></thead> \n",
       "<tbody>    <tr> \n",
       "        <th id=\"T_a217d4e6_2449_11e9_b2c0_0242ac120003level0_row0\" class=\"row_heading level0 row0\" >58b0894195d0e0247463875e</th> \n",
       "        <td id=\"T_a217d4e6_2449_11e9_b2c0_0242ac120003row0_col0\" class=\"data row0 col0\" >4996</td> \n",
       "        <td id=\"T_a217d4e6_2449_11e9_b2c0_0242ac120003row0_col1\" class=\"data row0 col1\" >By JULIE HIRSCHFELD DAVIS and MICHAEL M. GRYNBAUM</td> \n",
       "        <td id=\"T_a217d4e6_2449_11e9_b2c0_0242ac120003row0_col2\" class=\"data row0 col2\" >Trump Intensifies Criticism of F.B.I. and Journalists</td> \n",
       "        <td id=\"T_a217d4e6_2449_11e9_b2c0_0242ac120003row0_col3\" class=\"data row0 col3\" >National</td> \n",
       "        <td id=\"T_a217d4e6_2449_11e9_b2c0_0242ac120003row0_col4\" class=\"data row0 col4\" >2017-02-24 19:27:53</td> \n",
       "        <td id=\"T_a217d4e6_2449_11e9_b2c0_0242ac120003row0_col5\" class=\"data row0 col5\" ><a target=\"_blank\" href=\"https://www.nytimes.com/2017/02/24/us/politics/white-house-sean-spicer-briefing.html\"\">Link</a></td> \n",
       "    </tr>    <tr> \n",
       "        <th id=\"T_a217d4e6_2449_11e9_b2c0_0242ac120003level0_row1\" class=\"row_heading level0 row1\" >5912391b7c459f24986de9ab</th> \n",
       "        <td id=\"T_a217d4e6_2449_11e9_b2c0_0242ac120003row1_col0\" class=\"data row1 col0\" >4184</td> \n",
       "        <td id=\"T_a217d4e6_2449_11e9_b2c0_0242ac120003row1_col1\" class=\"data row1 col1\" >By MICHAEL D. SHEAR and MATT APUZZO</td> \n",
       "        <td id=\"T_a217d4e6_2449_11e9_b2c0_0242ac120003row1_col2\" class=\"data row1 col2\" >Trump Fires Comey Amid Russia Inquiry</td> \n",
       "        <td id=\"T_a217d4e6_2449_11e9_b2c0_0242ac120003row1_col3\" class=\"data row1 col3\" >National</td> \n",
       "        <td id=\"T_a217d4e6_2449_11e9_b2c0_0242ac120003row1_col4\" class=\"data row1 col4\" >2017-05-09 21:48:03</td> \n",
       "        <td id=\"T_a217d4e6_2449_11e9_b2c0_0242ac120003row1_col5\" class=\"data row1 col5\" ><a target=\"_blank\" href=\"https://www.nytimes.com/2017/05/09/us/politics/james-comey-fired-fbi.html\"\">Link</a></td> \n",
       "    </tr>    <tr> \n",
       "        <th id=\"T_a217d4e6_2449_11e9_b2c0_0242ac120003level0_row2\" class=\"row_heading level0 row2\" >58ebb1437c459f24986d96ed</th> \n",
       "        <td id=\"T_a217d4e6_2449_11e9_b2c0_0242ac120003row2_col0\" class=\"data row2 col0\" >4014</td> \n",
       "        <td id=\"T_a217d4e6_2449_11e9_b2c0_0242ac120003row2_col1\" class=\"data row2 col1\" >By DANIEL VICTOR and MATT STEVENS</td> \n",
       "        <td id=\"T_a217d4e6_2449_11e9_b2c0_0242ac120003row2_col2\" class=\"data row2 col2\" >Man Is Dragged From a Full Jet, Stirring a Furor</td> \n",
       "        <td id=\"T_a217d4e6_2449_11e9_b2c0_0242ac120003row2_col3\" class=\"data row2 col3\" >Business</td> \n",
       "        <td id=\"T_a217d4e6_2449_11e9_b2c0_0242ac120003row2_col4\" class=\"data row2 col4\" >2017-04-10 16:22:22</td> \n",
       "        <td id=\"T_a217d4e6_2449_11e9_b2c0_0242ac120003row2_col5\" class=\"data row2 col5\" ><a target=\"_blank\" href=\"https://www.nytimes.com/2017/04/10/business/united-flight-passenger-dragged.html\"\">Link</a></td> \n",
       "    </tr>    <tr> \n",
       "        <th id=\"T_a217d4e6_2449_11e9_b2c0_0242ac120003level0_row3\" class=\"row_heading level0 row3\" >591a524d7c459f24986dfc28</th> \n",
       "        <td id=\"T_a217d4e6_2449_11e9_b2c0_0242ac120003row3_col0\" class=\"data row3 col0\" >3791</td> \n",
       "        <td id=\"T_a217d4e6_2449_11e9_b2c0_0242ac120003row3_col1\" class=\"data row3 col1\" >By DAVID BROOKS</td> \n",
       "        <td id=\"T_a217d4e6_2449_11e9_b2c0_0242ac120003row3_col2\" class=\"data row3 col2\" >When a Child Is Leading The World</td> \n",
       "        <td id=\"T_a217d4e6_2449_11e9_b2c0_0242ac120003row3_col3\" class=\"data row3 col3\" >OpEd</td> \n",
       "        <td id=\"T_a217d4e6_2449_11e9_b2c0_0242ac120003row3_col4\" class=\"data row3 col4\" >2017-05-16 01:13:44</td> \n",
       "        <td id=\"T_a217d4e6_2449_11e9_b2c0_0242ac120003row3_col5\" class=\"data row3 col5\" ><a target=\"_blank\" href=\"https://www.nytimes.com/2017/05/15/opinion/trump-classified-data.html\"\">Link</a></td> \n",
       "    </tr>    <tr> \n",
       "        <th id=\"T_a217d4e6_2449_11e9_b2c0_0242ac120003level0_row4\" class=\"row_heading level0 row4\" >5930616f7c459f24986e2e41</th> \n",
       "        <td id=\"T_a217d4e6_2449_11e9_b2c0_0242ac120003row4_col0\" class=\"data row4 col0\" >3709</td> \n",
       "        <td id=\"T_a217d4e6_2449_11e9_b2c0_0242ac120003row4_col1\" class=\"data row4 col1\" >By MICHAEL D. SHEAR</td> \n",
       "        <td id=\"T_a217d4e6_2449_11e9_b2c0_0242ac120003row4_col2\" class=\"data row4 col2\" >Trump Abandoning Global Climate Accord</td> \n",
       "        <td id=\"T_a217d4e6_2449_11e9_b2c0_0242ac120003row4_col3\" class=\"data row4 col3\" >Foreign</td> \n",
       "        <td id=\"T_a217d4e6_2449_11e9_b2c0_0242ac120003row4_col4\" class=\"data row4 col4\" >2017-06-01 18:48:08</td> \n",
       "        <td id=\"T_a217d4e6_2449_11e9_b2c0_0242ac120003row4_col5\" class=\"data row4 col5\" ><a target=\"_blank\" href=\"https://www.nytimes.com/2017/06/01/climate/trump-paris-climate-agreement.html\"\">Link</a></td> \n",
       "    </tr></tbody> \n",
       "</table> "
      ],
      "text/plain": [
       "<pandas.io.formats.style.Styler at 0x7f465c12e828>"
      ]
     },
     "execution_count": 4,
     "metadata": {},
     "output_type": "execute_result"
    }
   ],
   "source": [
    "cur = graph.run(\"\"\"MATCH (a:ARTICLE)\n",
    "WITH a, SIZE(()-[:COMMENTED]->(a)) as cmtCnt\n",
    "ORDER BY cmtCnt DESC LIMIT 5\n",
    "MATCH p=()-[:COMMENTED]->(a)\n",
    "RETURN a, count(p)\"\"\")\n",
    "\n",
    "pd.DataFrame([{**res['a'], 'Comments': res['count(p)']} for res in yield_results(cur)]) \\\n",
    "    .sort_values('Comments', ascending=False) \\\n",
    "    .set_index('articleID') \\\n",
    "    .style.format({'webURL': lambda x: f'<a target=\"_blank\" href=\"{x}\"\">Link</a>'})"
   ]
  },
  {
   "cell_type": "markdown",
   "metadata": {},
   "source": [
    "### What users have the highest degree (i.e., most comments)?"
   ]
  },
  {
   "cell_type": "code",
   "execution_count": 5,
   "metadata": {},
   "outputs": [
    {
     "data": {
      "text/html": [
       "<div>\n",
       "<style scoped>\n",
       "    .dataframe tbody tr th:only-of-type {\n",
       "        vertical-align: middle;\n",
       "    }\n",
       "\n",
       "    .dataframe tbody tr th {\n",
       "        vertical-align: top;\n",
       "    }\n",
       "\n",
       "    .dataframe thead th {\n",
       "        text-align: right;\n",
       "    }\n",
       "</style>\n",
       "<table border=\"1\" class=\"dataframe\">\n",
       "  <thead>\n",
       "    <tr style=\"text-align: right;\">\n",
       "      <th></th>\n",
       "      <th>Comments</th>\n",
       "      <th>userDisplayName</th>\n",
       "      <th>userLocation</th>\n",
       "    </tr>\n",
       "    <tr>\n",
       "      <th>userID</th>\n",
       "      <th></th>\n",
       "      <th></th>\n",
       "      <th></th>\n",
       "    </tr>\n",
       "  </thead>\n",
       "  <tbody>\n",
       "    <tr>\n",
       "      <th>61986282.0</th>\n",
       "      <td>1571</td>\n",
       "      <td>Phyliss Dalmatian</td>\n",
       "      <td>Wichita, Kansas</td>\n",
       "    </tr>\n",
       "    <tr>\n",
       "      <th>17374907.0</th>\n",
       "      <td>1235</td>\n",
       "      <td>Blackmamba</td>\n",
       "      <td>Il</td>\n",
       "    </tr>\n",
       "    <tr>\n",
       "      <th>47123844.0</th>\n",
       "      <td>1232</td>\n",
       "      <td>Richard Luettgen</td>\n",
       "      <td>New Jersey</td>\n",
       "    </tr>\n",
       "    <tr>\n",
       "      <th>47112177.0</th>\n",
       "      <td>1174</td>\n",
       "      <td>manfred m</td>\n",
       "      <td>Bolivia</td>\n",
       "    </tr>\n",
       "    <tr>\n",
       "      <th>37475504.0</th>\n",
       "      <td>1157</td>\n",
       "      <td>John Doe</td>\n",
       "      <td>Johnstown</td>\n",
       "    </tr>\n",
       "  </tbody>\n",
       "</table>\n",
       "</div>"
      ],
      "text/plain": [
       "            Comments    userDisplayName     userLocation\n",
       "userID                                                  \n",
       "61986282.0      1571  Phyliss Dalmatian  Wichita, Kansas\n",
       "17374907.0      1235         Blackmamba               Il\n",
       "47123844.0      1232   Richard Luettgen       New Jersey\n",
       "47112177.0      1174          manfred m          Bolivia\n",
       "37475504.0      1157           John Doe        Johnstown"
      ]
     },
     "execution_count": 5,
     "metadata": {},
     "output_type": "execute_result"
    }
   ],
   "source": [
    "cur = graph.run(\"\"\"MATCH (u:USER)\n",
    "WITH u, SIZE((u)-[:COMMENTED]->()) as cmtCnt\n",
    "ORDER BY cmtCnt DESC LIMIT 5\n",
    "MATCH p=(u)-[:COMMENTED]->()\n",
    "RETURN u, count(p)\"\"\")\n",
    "\n",
    "pd.DataFrame([{**res['u'], 'Comments': res['count(p)']} for res in yield_results(cur)]) \\\n",
    "    .sort_values('Comments', ascending=False) \\\n",
    "    .set_index('userID')"
   ]
  },
  {
   "cell_type": "code",
   "execution_count": 6,
   "metadata": {},
   "outputs": [
    {
     "data": {
      "text/plain": [
       "[]"
      ]
     },
     "execution_count": 6,
     "metadata": {},
     "output_type": "execute_result"
    }
   ],
   "source": [
    "cur = graph.run(\"\"\"CALL dbms.procedures() YIELD name, signature, description\n",
    "WHERE name starts with \"algo\"\n",
    "RETURN name, signature, description\"\"\")\n",
    "list(yield_results(cur))"
   ]
  },
  {
   "cell_type": "code",
   "execution_count": null,
   "metadata": {},
   "outputs": [],
   "source": []
  }
 ],
 "metadata": {
  "kernelspec": {
   "display_name": "Python 3",
   "language": "python",
   "name": "python3"
  },
  "language_info": {
   "codemirror_mode": {
    "name": "ipython",
    "version": 3
   },
   "file_extension": ".py",
   "mimetype": "text/x-python",
   "name": "python",
   "nbconvert_exporter": "python",
   "pygments_lexer": "ipython3",
   "version": "3.6.7"
  }
 },
 "nbformat": 4,
 "nbformat_minor": 2
}
